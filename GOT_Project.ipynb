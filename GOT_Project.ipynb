{
 "cells": [
  {
   "cell_type": "code",
   "execution_count": 184,
   "metadata": {},
   "outputs": [
    {
     "name": "stdout",
     "output_type": "stream",
     "text": [
      "The rpy2.ipython extension is already loaded. To reload it, use:\n",
      "  %reload_ext rpy2.ipython\n"
     ]
    },
    {
     "data": {
      "text/plain": [
       "array(['grid', 'png', 'cowplot', 'ggplot2', 'tools', 'stats', 'graphics',\n",
       "       'grDevices', 'utils', 'datasets', 'methods', 'base'], dtype='<U9')"
      ]
     },
     "execution_count": 184,
     "metadata": {},
     "output_type": "execute_result"
    }
   ],
   "source": [
    "import numpy as np\n",
    "import pandas as pd\n",
    "from collections import Counter\n",
    "\n",
    "%load_ext rpy2.ipython\n",
    "%R library(ggplot2)\n",
    "\n",
    "# %reload_ext rpy2.ipython"
   ]
  },
  {
   "cell_type": "markdown",
   "metadata": {},
   "source": [
    "references: https://www.finance-monthly.com/2019/05/how-much-money-has-hbo-made-from-game-of-thrones/\n",
    "https://www.imdb.com/title/tt0167260/?ref_=ttls_li_tt\n",
    "https://www.pajiba.com/box_office_round-ups/nearly-11-million-north-americans-watched-the-hobbit-this-weekend-which-is-not-as-impressive-as-it-sounds.php\n",
    "https://www.wired.com/story/game-of-thrones-viewership/"
   ]
  },
  {
   "cell_type": "code",
   "execution_count": 186,
   "metadata": {
    "scrolled": false
   },
   "outputs": [
    {
     "data": {
      "text/html": [
       "<div>\n",
       "<style scoped>\n",
       "    .dataframe tbody tr th:only-of-type {\n",
       "        vertical-align: middle;\n",
       "    }\n",
       "\n",
       "    .dataframe tbody tr th {\n",
       "        vertical-align: top;\n",
       "    }\n",
       "\n",
       "    .dataframe thead th {\n",
       "        text-align: right;\n",
       "    }\n",
       "</style>\n",
       "<table border=\"1\" class=\"dataframe\">\n",
       "  <thead>\n",
       "    <tr style=\"text-align: right;\">\n",
       "      <th></th>\n",
       "      <th>season</th>\n",
       "      <th>episode</th>\n",
       "      <th>name</th>\n",
       "      <th>emoji</th>\n",
       "      <th>percent</th>\n",
       "    </tr>\n",
       "  </thead>\n",
       "  <tbody>\n",
       "    <tr>\n",
       "      <th>0</th>\n",
       "      <td>1</td>\n",
       "      <td>1</td>\n",
       "      <td>Daenerys Targaryen</td>\n",
       "      <td>NaN</td>\n",
       "      <td>12.0</td>\n",
       "    </tr>\n",
       "    <tr>\n",
       "      <th>1</th>\n",
       "      <td>1</td>\n",
       "      <td>1</td>\n",
       "      <td>Tyrion Lannister</td>\n",
       "      <td>NaN</td>\n",
       "      <td>11.2</td>\n",
       "    </tr>\n",
       "    <tr>\n",
       "      <th>2</th>\n",
       "      <td>1</td>\n",
       "      <td>1</td>\n",
       "      <td>Bran Stark</td>\n",
       "      <td>NaN</td>\n",
       "      <td>8.8</td>\n",
       "    </tr>\n",
       "    <tr>\n",
       "      <th>3</th>\n",
       "      <td>1</td>\n",
       "      <td>2</td>\n",
       "      <td>Tyrion Lannister</td>\n",
       "      <td>NaN</td>\n",
       "      <td>18.1</td>\n",
       "    </tr>\n",
       "    <tr>\n",
       "      <th>4</th>\n",
       "      <td>1</td>\n",
       "      <td>2</td>\n",
       "      <td>Joffrey Baratheon</td>\n",
       "      <td>NaN</td>\n",
       "      <td>12.5</td>\n",
       "    </tr>\n",
       "  </tbody>\n",
       "</table>\n",
       "</div>"
      ],
      "text/plain": [
       "   season  episode                name emoji  percent\n",
       "0       1        1  Daenerys Targaryen   NaN     12.0\n",
       "1       1        1    Tyrion Lannister   NaN     11.2\n",
       "2       1        1          Bran Stark   NaN      8.8\n",
       "3       1        2    Tyrion Lannister   NaN     18.1\n",
       "4       1        2   Joffrey Baratheon   NaN     12.5"
      ]
     },
     "execution_count": 186,
     "metadata": {},
     "output_type": "execute_result"
    }
   ],
   "source": [
    "dfgot = pd.read_csv('emoji_list.txt')\n",
    "dfgot.head()"
   ]
  },
  {
   "cell_type": "code",
   "execution_count": 187,
   "metadata": {},
   "outputs": [
    {
     "data": {
      "text/html": [
       "<div>\n",
       "<style scoped>\n",
       "    .dataframe tbody tr th:only-of-type {\n",
       "        vertical-align: middle;\n",
       "    }\n",
       "\n",
       "    .dataframe tbody tr th {\n",
       "        vertical-align: top;\n",
       "    }\n",
       "\n",
       "    .dataframe thead th {\n",
       "        text-align: right;\n",
       "    }\n",
       "</style>\n",
       "<table border=\"1\" class=\"dataframe\">\n",
       "  <thead>\n",
       "    <tr style=\"text-align: right;\">\n",
       "      <th></th>\n",
       "      <th>name</th>\n",
       "      <th>sex</th>\n",
       "    </tr>\n",
       "  </thead>\n",
       "  <tbody>\n",
       "    <tr>\n",
       "      <th>0</th>\n",
       "      <td>Daenerys Targaryen</td>\n",
       "      <td>F</td>\n",
       "    </tr>\n",
       "    <tr>\n",
       "      <th>1</th>\n",
       "      <td>Tyrion Lannister</td>\n",
       "      <td>M</td>\n",
       "    </tr>\n",
       "    <tr>\n",
       "      <th>2</th>\n",
       "      <td>Bran Stark</td>\n",
       "      <td>M</td>\n",
       "    </tr>\n",
       "    <tr>\n",
       "      <th>3</th>\n",
       "      <td>Joffrey Baratheon</td>\n",
       "      <td>M</td>\n",
       "    </tr>\n",
       "    <tr>\n",
       "      <th>4</th>\n",
       "      <td>Jon Snow</td>\n",
       "      <td>M</td>\n",
       "    </tr>\n",
       "  </tbody>\n",
       "</table>\n",
       "</div>"
      ],
      "text/plain": [
       "                 name sex\n",
       "0  Daenerys Targaryen   F\n",
       "1    Tyrion Lannister   M\n",
       "2          Bran Stark   M\n",
       "3   Joffrey Baratheon   M\n",
       "4            Jon Snow   M"
      ]
     },
     "execution_count": 187,
     "metadata": {},
     "output_type": "execute_result"
    }
   ],
   "source": [
    "dfgotgender = pd.read_csv('gotgender.csv')\n",
    "dfgot = pd.read_csv('emoji_list.txt')\n",
    "dftotal = pd.merge(dfgot,dfgotgender, on='name')\n",
    "dfgotgender.head()"
   ]
  },
  {
   "cell_type": "code",
   "execution_count": 188,
   "metadata": {},
   "outputs": [],
   "source": [
    "# for cleaning the data\n",
    "def change_nan(df):\n",
    "    for x in df.columns:\n",
    "        if np.issubdtype(df[x].dtype, np.number):\n",
    "            df[x] = df[x].fillna(0)\n",
    "        else:\n",
    "            df[x] = df[x].fillna('none')\n",
    "    return df"
   ]
  },
  {
   "cell_type": "code",
   "execution_count": 191,
   "metadata": {},
   "outputs": [],
   "source": [
    "# used to count emojis for each character\n",
    "dftotalc = dftotal.copy()\n",
    "def count_emoji(name):\n",
    "    dftable = dftotalc.loc[dftotalc['name']== name]\n",
    "    emoji_string = dftable[['emoji']].dropna().reset_index(drop=True)\n",
    "    emoji_list = [word for word in str(emoji_string) if (word is not ' ') and (word is not'\\n')and (ord(word)>128)]\n",
    "    emoji_count = Counter(emoji_list)\n",
    "    top_10 = pd.DataFrame(emoji_count.most_common(10))\n",
    "    top_10.columns = ['emoji','counts']\n",
    "    return top_10"
   ]
  },
  {
   "cell_type": "code",
   "execution_count": 192,
   "metadata": {},
   "outputs": [],
   "source": [
    "# prep data for emoji counter for male\n",
    "dftotalc = dftotal.copy()\n",
    "male_emoji = dftotalc.loc[dftotalc['sex'] == 'M'].dropna()['emoji']\n",
    "male_emoji_list = [word for word in str(male_emoji) if (word is not ' ') and (word is not'\\n')and (ord(word)>128)]\n",
    "male_emoji_count = Counter(male_emoji_list)\n",
    "male_top_15 = pd.DataFrame(male_emoji_count.most_common(15))\n",
    "male_top_15.columns = ['emoji','counts']"
   ]
  },
  {
   "cell_type": "code",
   "execution_count": 193,
   "metadata": {
    "scrolled": true
   },
   "outputs": [],
   "source": [
    "# prep data for emoji counter for female\n",
    "dftotalc = dftotal.copy()\n",
    "female_emoji = dftotalc.loc[dftotalc['sex'] == 'F'].dropna()['emoji']\n",
    "female_emoji_list = [word for word in str(female_emoji) if (word is not ' ') and (word is not'\\n')and (ord(word)>128)]\n",
    "female_emoji_count = Counter(female_emoji_list)\n",
    "female_top_15 = pd.DataFrame(female_emoji_count.most_common(15))\n",
    "female_top_15.columns = ['emoji','counts']\n"
   ]
  },
  {
   "cell_type": "code",
   "execution_count": 18,
   "metadata": {},
   "outputs": [
    {
     "data": {
      "text/plain": [
       "{'🐉', '🐲', '👑', '👸'}"
      ]
     },
     "execution_count": 18,
     "metadata": {},
     "output_type": "execute_result"
    }
   ],
   "source": [
    "set(female_top_15['emoji'])- set(male_top_15['emoji'])"
   ]
  },
  {
   "cell_type": "code",
   "execution_count": 19,
   "metadata": {
    "scrolled": true
   },
   "outputs": [
    {
     "data": {
      "text/plain": [
       "{'🍷', '🐶', '😡', '😳'}"
      ]
     },
     "execution_count": 19,
     "metadata": {},
     "output_type": "execute_result"
    }
   ],
   "source": [
    "set(male_top_15['emoji'])- set(female_top_15['emoji'])"
   ]
  },
  {
   "cell_type": "code",
   "execution_count": 20,
   "metadata": {},
   "outputs": [
    {
     "data": {
      "text/plain": [
       "{'👌', '👏', '💔', '🔥', '😁', '😔', '😢', '😩', '😭', '😱', '🙌'}"
      ]
     },
     "execution_count": 20,
     "metadata": {},
     "output_type": "execute_result"
    }
   ],
   "source": [
    "set(male_top_15['emoji']).intersection(set(female_top_15['emoji']))"
   ]
  },
  {
   "cell_type": "code",
   "execution_count": 24,
   "metadata": {},
   "outputs": [],
   "source": [
    "# begin venn diagram ggplot assembly\n",
    "\n",
    "dfvenn = pd.DataFrame([['0', '1'],['0','1']])\n",
    "%R -i dfvenn"
   ]
  },
  {
   "cell_type": "code",
   "execution_count": 25,
   "metadata": {
    "scrolled": false
   },
   "outputs": [],
   "source": [
    "%%R\n",
    "library(png)\n",
    "library(grid)\n",
    "okhand_img = readPNG(\"/Users/kathleenyi/Documents/Fall_1/EDAandViz/emoji/ok-hand.png\")\n",
    "okhand_g = rasterGrob(okhand_img, interpolate=TRUE)\n",
    "clapping_img = readPNG(\"/Users/kathleenyi/Documents/Fall_1/EDAandViz/emoji/clapping.png\")\n",
    "clapping_g = rasterGrob(clapping_img, interpolate=TRUE)\n",
    "broken_heart_img = readPNG(\"/Users/kathleenyi/Documents/Fall_1/EDAandViz/emoji/broken-heart.png\")\n",
    "broken_heart_g = rasterGrob(broken_heart_img, interpolate=TRUE)\n",
    "fire_img = readPNG(\"/Users/kathleenyi/Documents/Fall_1/EDAandViz/emoji/fire.png\")\n",
    "fire_g = rasterGrob(fire_img, interpolate=TRUE)\n",
    "grinning_img = readPNG(\"/Users/kathleenyi/Documents/Fall_1/EDAandViz/emoji/grinning.png\")\n",
    "grinning_g = rasterGrob(grinning_img, interpolate=TRUE)\n",
    "sad_img = readPNG(\"/Users/kathleenyi/Documents/Fall_1/EDAandViz/emoji/sad.png\")\n",
    "sad_g = rasterGrob(sad_img, interpolate=TRUE)\n",
    "crying_img = readPNG(\"/Users/kathleenyi/Documents/Fall_1/EDAandViz/emoji/crying.png\")\n",
    "crying_g = rasterGrob(crying_img, interpolate=TRUE)\n",
    "weary_img = readPNG(\"/Users/kathleenyi/Documents/Fall_1/EDAandViz/emoji/weary.png\")\n",
    "weary_g = rasterGrob(weary_img, interpolate=TRUE)\n",
    "loudly_crying_img = readPNG(\"/Users/kathleenyi/Documents/Fall_1/EDAandViz/emoji/loudly-crying.png\")\n",
    "loudly_crying_g = rasterGrob(loudly_crying_img, interpolate=TRUE)\n",
    "screaming_img = readPNG(\"/Users/kathleenyi/Documents/Fall_1/EDAandViz/emoji/screaming.png\")\n",
    "screaming_g = rasterGrob(screaming_img, interpolate=TRUE)\n",
    "two_hands_img = readPNG(\"/Users/kathleenyi/Documents/Fall_1/EDAandViz/emoji/two_hands.png\")\n",
    "two_hands_g = rasterGrob(two_hands_img, interpolate=TRUE)\n",
    "# male\n",
    "wine_img = readPNG(\"/Users/kathleenyi/Documents/Fall_1/EDAandViz/emoji/wine.png\")\n",
    "wine_g = rasterGrob(wine_img, interpolate=TRUE)\n",
    "dog_img = readPNG(\"/Users/kathleenyi/Documents/Fall_1/EDAandViz/emoji/dog.png\")\n",
    "dog_g = rasterGrob(dog_img, interpolate=TRUE)\n",
    "angry_img = readPNG(\"/Users/kathleenyi/Documents/Fall_1/EDAandViz/emoji/angry.png\")\n",
    "angry_g = rasterGrob(angry_img, interpolate=TRUE)\n",
    "embar_img = readPNG(\"/Users/kathleenyi/Documents/Fall_1/EDAandViz/emoji/embar.png\")\n",
    "embar_g = rasterGrob(embar_img, interpolate=TRUE)\n",
    "# female\n",
    "db_img = readPNG(\"/Users/kathleenyi/Documents/Fall_1/EDAandViz/emoji/dragon_ball.png\")\n",
    "db_g = rasterGrob(db_img, interpolate=TRUE)\n",
    "df_img = readPNG(\"/Users/kathleenyi/Documents/Fall_1/EDAandViz/emoji/dragon-face.png\")\n",
    "df_g = rasterGrob(df_img, interpolate=TRUE)\n",
    "crown_img = readPNG(\"/Users/kathleenyi/Documents/Fall_1/EDAandViz/emoji/crown.png\")\n",
    "crown_g = rasterGrob(crown_img, interpolate=TRUE)\n",
    "princess_img = readPNG(\"/Users/kathleenyi/Documents/Fall_1/EDAandViz/emoji/princess.png\")\n",
    "princess_g = rasterGrob(princess_img, interpolate=TRUE)"
   ]
  },
  {
   "cell_type": "code",
   "execution_count": 158,
   "metadata": {
    "scrolled": true
   },
   "outputs": [],
   "source": [
    "%%R \n",
    "\n",
    "ggplot(dfvenn) +\n",
    "    geom_point(x=0.4,y=0.5, size = 135, color = 'deeppink', alpha=.1)+\n",
    "    geom_point(x=0.6,y=0.5, size = 135, color = 'dodgerblue', alpha=.1)+\n",
    "    annotate(geom=\"text\", x=0.35, y=0.9, label=\"Female\",fontface=\"bold\", color='deeppink', size=6)+\n",
    "    annotate(geom=\"text\", x=0.65, y=0.9, label=\"Male\",fontface=\"bold\", color='dodgerblue', size=6) +\n",
    "    xlim(0, 1)+\n",
    "    ylim(0, 1)+\n",
    "    theme_void()+\n",
    "    annotation_custom(grob=okhand_g, xmin=0.4, xmax=0.48, ymin=0.68, ymax=0.78)+\n",
    "    annotation_custom(grob=clapping_g, xmin=0.52, xmax=0.6, ymin=0.65, ymax=0.75)+\n",
    "    annotation_custom(grob=broken_heart_g, xmin=0.34, xmax=0.42, ymin=0.58, ymax=0.68)+\n",
    "    annotation_custom(grob=fire_g, xmin=0.6, xmax=0.68, ymin=0.35, ymax=0.45)+\n",
    "    annotation_custom(grob=grinning_g, xmin=0.39, xmax=0.47, ymin=0.47, ymax=0.57)+\n",
    "    annotation_custom(grob=sad_g, xmin=0.5, xmax=0.58, ymin=0.4, ymax=0.5)+\n",
    "    annotation_custom(grob=crying_g, xmin=0.5, xmax=0.58, ymin=0.27, ymax=0.37)+\n",
    "    annotation_custom(grob=weary_g, xmin=0.6, xmax=0.68, ymin=0.5, ymax=0.6)+\n",
    "    annotation_custom(grob=loudly_crying_g, xmin=0.3, xmax=0.38, ymin=0.4, ymax=0.5)+\n",
    "    annotation_custom(grob=screaming_g, xmin=0.5, xmax=0.58, ymin=0.55, ymax=0.65)+\n",
    "    annotation_custom(grob=two_hands_g, xmin=0.37, xmax=0.45, ymin=0.27, ymax=0.37)+\n",
    "\n",
    "    annotation_custom(grob=wine_g, xmin=0.7, xmax=0.78, ymin=0.65, ymax=0.75)+\n",
    "    annotation_custom(grob=dog_g, xmin=0.77, xmax=0.85, ymin=0.52, ymax=0.62)+\n",
    "    annotation_custom(grob=angry_g, xmin=0.77, xmax=0.85, ymin=0.38, ymax=0.48)+\n",
    "    annotation_custom(grob=embar_g, xmin=0.7, xmax=0.78, ymin=0.25, ymax=0.35)+\n",
    "\n",
    "    annotation_custom(grob=db_g, xmin=0.2, xmax=0.28, ymin=0.65, ymax=0.75)+\n",
    "    annotation_custom(grob=df_g, xmin=0.15, xmax=0.23, ymin=0.52, ymax=0.62)+\n",
    "    annotation_custom(grob=crown_g, xmin=0.15, xmax=0.23, ymin=0.38, ymax=0.48)+\n",
    "    annotation_custom(grob=princess_g, xmin=0.2, xmax=0.28, ymin=0.25, ymax=0.35)\n",
    "\n",
    "ggsave('./vendiagram.png', units = 'in', width=6.8, height=6)"
   ]
  },
  {
   "cell_type": "markdown",
   "metadata": {},
   "source": [
    "### Switching to a different dataset: GOT Screen times"
   ]
  },
  {
   "cell_type": "code",
   "execution_count": 194,
   "metadata": {
    "scrolled": true
   },
   "outputs": [],
   "source": [
    "dfscreentime = pd.read_csv('got_screentimes.csv')"
   ]
  },
  {
   "cell_type": "code",
   "execution_count": 83,
   "metadata": {},
   "outputs": [
    {
     "data": {
      "text/html": [
       "<div>\n",
       "<style scoped>\n",
       "    .dataframe tbody tr th:only-of-type {\n",
       "        vertical-align: middle;\n",
       "    }\n",
       "\n",
       "    .dataframe tbody tr th {\n",
       "        vertical-align: top;\n",
       "    }\n",
       "\n",
       "    .dataframe thead th {\n",
       "        text-align: right;\n",
       "    }\n",
       "</style>\n",
       "<table border=\"1\" class=\"dataframe\">\n",
       "  <thead>\n",
       "    <tr style=\"text-align: right;\">\n",
       "      <th></th>\n",
       "      <th>sex</th>\n",
       "      <th>variable</th>\n",
       "      <th>value</th>\n",
       "      <th>total</th>\n",
       "      <th>percent_screentime</th>\n",
       "    </tr>\n",
       "  </thead>\n",
       "  <tbody>\n",
       "    <tr>\n",
       "      <th>0</th>\n",
       "      <td>F</td>\n",
       "      <td>screentime</td>\n",
       "      <td>1277.00</td>\n",
       "      <td>3428.15</td>\n",
       "      <td>0.372504</td>\n",
       "    </tr>\n",
       "    <tr>\n",
       "      <th>1</th>\n",
       "      <td>M</td>\n",
       "      <td>screentime</td>\n",
       "      <td>2151.15</td>\n",
       "      <td>3428.15</td>\n",
       "      <td>0.627496</td>\n",
       "    </tr>\n",
       "  </tbody>\n",
       "</table>\n",
       "</div>"
      ],
      "text/plain": [
       "  sex    variable    value    total  percent_screentime\n",
       "0   F  screentime  1277.00  3428.15            0.372504\n",
       "1   M  screentime  2151.15  3428.15            0.627496"
      ]
     },
     "execution_count": 83,
     "metadata": {},
     "output_type": "execute_result"
    }
   ],
   "source": [
    "screentime_gender_condensed = screentime_gender.groupby('sex').agg({'screentime':'sum'}).reset_index()\n",
    "screentime_gender_condensed1 =pd.melt(screentime_gender_condensed, id_vars=['sex'], value_vars=['screentime'])\n",
    "screentime_gender_condensed1['total']= 3428.15\n",
    "screentime_gender_condensed1['percent_screentime']= screentime_gender_condensed1['value']/screentime_gender_condensed1['total']\n",
    "%R -i screentime_gender_condensed"
   ]
  },
  {
   "cell_type": "code",
   "execution_count": 84,
   "metadata": {
    "scrolled": false
   },
   "outputs": [
    {
     "data": {
      "text/html": [
       "<div>\n",
       "<style scoped>\n",
       "    .dataframe tbody tr th:only-of-type {\n",
       "        vertical-align: middle;\n",
       "    }\n",
       "\n",
       "    .dataframe tbody tr th {\n",
       "        vertical-align: top;\n",
       "    }\n",
       "\n",
       "    .dataframe thead th {\n",
       "        text-align: right;\n",
       "    }\n",
       "</style>\n",
       "<table border=\"1\" class=\"dataframe\">\n",
       "  <thead>\n",
       "    <tr style=\"text-align: right;\">\n",
       "      <th></th>\n",
       "      <th>sex</th>\n",
       "      <th>variable</th>\n",
       "      <th>value</th>\n",
       "      <th>total</th>\n",
       "      <th>percent_screentimeperepi</th>\n",
       "    </tr>\n",
       "  </thead>\n",
       "  <tbody>\n",
       "    <tr>\n",
       "      <th>0</th>\n",
       "      <td>F</td>\n",
       "      <td>screentime_per_epi</td>\n",
       "      <td>40.642887</td>\n",
       "      <td>126.969348</td>\n",
       "      <td>0.3201</td>\n",
       "    </tr>\n",
       "    <tr>\n",
       "      <th>1</th>\n",
       "      <td>M</td>\n",
       "      <td>screentime_per_epi</td>\n",
       "      <td>86.326461</td>\n",
       "      <td>126.969348</td>\n",
       "      <td>0.6799</td>\n",
       "    </tr>\n",
       "  </tbody>\n",
       "</table>\n",
       "</div>"
      ],
      "text/plain": [
       "  sex            variable      value       total  percent_screentimeperepi\n",
       "0   F  screentime_per_epi  40.642887  126.969348                    0.3201\n",
       "1   M  screentime_per_epi  86.326461  126.969348                    0.6799"
      ]
     },
     "execution_count": 84,
     "metadata": {},
     "output_type": "execute_result"
    }
   ],
   "source": [
    "screentime_gender_condensed = screentime_gender.groupby('sex').agg({'screentime_per_epi':'sum'}).reset_index()\n",
    "screenepi_gender_condensed1 =pd.melt(screentime_gender_condensed, id_vars=['sex'], value_vars=['screentime_per_epi'])\n",
    "screenepi_gender_condensed1['total']= 126.969348\n",
    "screenepi_gender_condensed1['percent_screentimeperepi']= screenepi_gender_condensed1['value']/screenepi_gender_condensed1['total']\n",
    "%R -i screentime_gender_condensed"
   ]
  },
  {
   "cell_type": "code",
   "execution_count": 85,
   "metadata": {},
   "outputs": [
    {
     "data": {
      "text/html": [
       "<div>\n",
       "<style scoped>\n",
       "    .dataframe tbody tr th:only-of-type {\n",
       "        vertical-align: middle;\n",
       "    }\n",
       "\n",
       "    .dataframe tbody tr th {\n",
       "        vertical-align: top;\n",
       "    }\n",
       "\n",
       "    .dataframe thead th {\n",
       "        text-align: right;\n",
       "    }\n",
       "</style>\n",
       "<table border=\"1\" class=\"dataframe\">\n",
       "  <thead>\n",
       "    <tr style=\"text-align: right;\">\n",
       "      <th></th>\n",
       "      <th>sex</th>\n",
       "      <th>variable</th>\n",
       "      <th>value</th>\n",
       "    </tr>\n",
       "  </thead>\n",
       "  <tbody>\n",
       "    <tr>\n",
       "      <th>0</th>\n",
       "      <td>F</td>\n",
       "      <td>percent_screentimeperepi</td>\n",
       "      <td>0.320100</td>\n",
       "    </tr>\n",
       "    <tr>\n",
       "      <th>1</th>\n",
       "      <td>M</td>\n",
       "      <td>percent_screentimeperepi</td>\n",
       "      <td>0.679900</td>\n",
       "    </tr>\n",
       "    <tr>\n",
       "      <th>2</th>\n",
       "      <td>F</td>\n",
       "      <td>percent_screentime</td>\n",
       "      <td>0.372504</td>\n",
       "    </tr>\n",
       "    <tr>\n",
       "      <th>3</th>\n",
       "      <td>M</td>\n",
       "      <td>percent_screentime</td>\n",
       "      <td>0.627496</td>\n",
       "    </tr>\n",
       "  </tbody>\n",
       "</table>\n",
       "</div>"
      ],
      "text/plain": [
       "  sex                  variable     value\n",
       "0   F  percent_screentimeperepi  0.320100\n",
       "1   M  percent_screentimeperepi  0.679900\n",
       "2   F        percent_screentime  0.372504\n",
       "3   M        percent_screentime  0.627496"
      ]
     },
     "execution_count": 85,
     "metadata": {},
     "output_type": "execute_result"
    }
   ],
   "source": [
    "dfvennmat = pd.merge(screentime_gender_condensed1,screenepi_gender_condensed1, how='left', on='sex')\n",
    "dfvennmat = pd.melt(dfvennmat, id_vars=['sex'], value_vars=['percent_screentimeperepi','percent_screentime'])\n",
    "%R -i dfvennmat\n",
    "dfvennmat"
   ]
  },
  {
   "cell_type": "markdown",
   "metadata": {},
   "source": [
    "### Begin assembly of Screen time slopegraph plot"
   ]
  },
  {
   "cell_type": "code",
   "execution_count": 151,
   "metadata": {},
   "outputs": [],
   "source": [
    "%%R \n",
    "\n",
    "ggplot(dfvennmat,aes(x=variable,y=value))+\n",
    "    geom_segment(aes(x='percent_screentime',y=0.372504,xend='percent_screentimeperepi',yend=0.320100),color='deeppink',size=3,alpha=0.4) +\n",
    "    geom_segment(aes(x='percent_screentime',y=0.627496,xend='percent_screentimeperepi',yend=0.679900),color='dodgerblue',size=3, alpha=0.4)+\n",
    "    theme_minimal()+ \n",
    "    geom_point(aes(x='percent_screentime',y=0.372504), size=6, shape=21, fill=\"deeppink\",color=\"deeppink\")+ \n",
    "    geom_point(aes(x='percent_screentimeperepi',y=0.320100), size=6, shape=21, fill=\"deeppink\",color=\"deeppink\")+ \n",
    "    geom_point(aes(x='percent_screentime',y=0.627496), size=6, shape=21, fill=\"dodgerblue\",color=\"dodgerblue\")+ \n",
    "    geom_point(aes(x='percent_screentimeperepi',y=0.679900), size=6, shape=21, fill=\"dodgerblue\",color=\"dodgerblue\")+\n",
    "    theme(axis.title=element_blank(),axis.text.x=element_blank())+\n",
    "    scale_y_continuous(labels = scales::percent,limits = c(0, 1))+\n",
    "    annotate(geom=\"text\", x=0.8, y=0.645, label=\"Male\",fontface=\"bold\", color='dodgerblue', size=6)+\n",
    "    annotate(geom=\"text\", x=0.75, y=0.41, label=\"Female\",fontface=\"bold\", color='deeppink', size=6)+\n",
    "    geom_hline(yintercept=0.3095, color='red',linetype = \"dashed\")+\n",
    "    geom_hline(yintercept=0.6905, color='blue',linetype = \"dashed\")+\n",
    "    annotate(geom=\"text\", x=2.3, y=0.75, label=\"69.05% \\nare male\", color='darkgrey', size=5)+\n",
    "    annotate(geom=\"text\", x=2.3, y=0.25, label=\"30.95% \\nare female\", color='darkgrey', size=5)+\n",
    "    annotate(geom=\"text\", x=2.3, y=0.5, label=\"Character \\nPercentages\",fontface=\"bold\", color='darkgrey', size=7)+\n",
    "    annotate(geom=\"text\", x=1, y=0, label=\"% of Total \\nScreen Time\",fontface=\"bold\", color='darkgrey', size=6)+\n",
    "    annotate(geom=\"text\", x=2, y=0, label=\"% of Screen Time \\nper Episode\",fontface=\"bold\", color='darkgrey', size=6)\n",
    "\n",
    "\n",
    "ggsave('./screentime.png', units = 'in', width=7, height=7)"
   ]
  },
  {
   "cell_type": "code",
   "execution_count": 90,
   "metadata": {
    "scrolled": true
   },
   "outputs": [
    {
     "data": {
      "text/plain": [
       "name                  29\n",
       "screentime            29\n",
       "episodes              29\n",
       "screentime_per_epi    29\n",
       "sex                   29\n",
       "dtype: int64"
      ]
     },
     "execution_count": 90,
     "metadata": {},
     "output_type": "execute_result"
    }
   ],
   "source": [
    "screentime_gender.loc[screentime_gender['sex']=='M'].count()"
   ]
  },
  {
   "cell_type": "markdown",
   "metadata": {},
   "source": [
    "13 F (30.95%) with screentime 29 M; 42 total"
   ]
  }
 ],
 "metadata": {
  "kernelspec": {
   "display_name": "Python 3",
   "language": "python",
   "name": "python3"
  },
  "language_info": {
   "codemirror_mode": {
    "name": "ipython",
    "version": 3
   },
   "file_extension": ".py",
   "mimetype": "text/x-python",
   "name": "python",
   "nbconvert_exporter": "python",
   "pygments_lexer": "ipython3",
   "version": "3.7.3"
  }
 },
 "nbformat": 4,
 "nbformat_minor": 2
}
